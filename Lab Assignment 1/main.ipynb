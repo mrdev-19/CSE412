{
 "cells": [
  {
   "attachments": {
    "image.png": {
     "image/png": "[encoded data removed]"
    }
   },
   "cell_type": "markdown",
   "metadata": {},
   "source": [
    "# Assignment 2\n",
    "\n",
    "**Name:** : Chukka Chanakya Devendra\n",
    "\n",
    "**Roll Number:**  : AP21110011577  \n",
    "\n",
    "**Submission Date:** : 12-08-2024\n",
    "\n",
    "---\n",
    "\n",
    "## Question\n",
    "\n",
    "![image.png](attachment:image.png)\n",
    "\n",
    "---"
   ]
  },
  {
   "cell_type": "code",
   "execution_count": 34,
   "metadata": {},
   "outputs": [],
   "source": [
    "import pandas as pd\n",
    "import numpy as np"
   ]
  },
  {
   "cell_type": "code",
   "execution_count": 35,
   "metadata": {},
   "outputs": [],
   "source": [
    "class Neuron(object):\n",
    "    def __init__(self,w=[1,1],t=1) -> None:\n",
    "        self.weights=np.array(w)\n",
    "        self.threshold=t\n",
    "\n",
    "    def output(self,val):\n",
    "        x=val\n",
    "        sum=np.inner(self.weights,x)\n",
    "        if sum>=self.threshold:\n",
    "            return 1\n",
    "        else:\n",
    "            return 0\n",
    "        \n",
    "    def truthtable(self,in_s,in_labels,out_label):\n",
    "        table=pd.DataFrame(in_s,columns=in_labels)\n",
    "        out_signal=[]\n",
    "        for r in in_s:\n",
    "\n",
    "            sig=self.output(val=r)\n",
    "            out_signal.append(sig)\n",
    "        table[out_label]=pd.Series(out_signal)\n",
    "        return table"
   ]
  },
  {
   "cell_type": "markdown",
   "metadata": {},
   "source": [
    "#### AND Gate Truth Table and Implementation using MCP Neuron\n",
    "|x1|x2|y|\n",
    "|:-:|:-:|:-:|\n",
    "|0|0|0|\n",
    "|0|1|1|\n",
    "|1|0|1|\n",
    "|1|1|1|"
   ]
  },
  {
   "cell_type": "code",
   "execution_count": 36,
   "metadata": {},
   "outputs": [
    {
     "name": "stdout",
     "output_type": "stream",
     "text": [
      "Result Main Table \n",
      "   x1  x2  y\n",
      "0   0   0  0\n",
      "1   0   1  0\n",
      "2   1   0  0\n",
      "3   1   1  1\n",
      "Result for User Input : \n",
      "   x1  x2  y\n",
      "0   1   1  1\n"
     ]
    }
   ],
   "source": [
    "in_signals = np.array([[0,0], [0,1], [1,0], [1,1]])\n",
    "in_labels = ['x1','x2']\n",
    "out_label = 'y'\n",
    "\n",
    "AND = Neuron(w = [1,1], t = 2)\n",
    "AND_table = AND.truthtable(in_signals, in_labels = in_labels, out_label = out_label)\n",
    "print(\"Result Main Table \")\n",
    "print(AND_table)\n",
    "\n",
    "inp=input(\"Enter the input to check separated by spaces : \")\n",
    "in_signals = np.array([list(map(int, inp.split()))])\n",
    "AND_table = AND.truthtable(in_signals, in_labels = in_labels, out_label = out_label)\n",
    "print(\"Result for User Input : \")\n",
    "print(AND_table)\n"
   ]
  },
  {
   "cell_type": "markdown",
   "metadata": {},
   "source": [
    "#### OR Gate Truth Table and Implementation using MCP Neuron\n",
    "|x1|x2|y|\n",
    "|:-:|:-:|:-:|\n",
    "|0|0|0|\n",
    "|0|1|1|\n",
    "|1|0|1|\n",
    "|1|1|1|"
   ]
  },
  {
   "cell_type": "code",
   "execution_count": 37,
   "metadata": {},
   "outputs": [
    {
     "name": "stdout",
     "output_type": "stream",
     "text": [
      "Output for Input Table : \n",
      "   x1  x2  y\n",
      "0   0   0  0\n",
      "1   0   1  1\n",
      "2   1   0  1\n",
      "3   1   1  1\n",
      "Output for User Input :\n",
      "   x1  x2  y\n",
      "0   1   1  1\n"
     ]
    }
   ],
   "source": [
    "## For main table : \n",
    "in_signals = np.array([[0,0], [0,1], [1,0], [1,1]])\n",
    "\n",
    "\n",
    "OR = Neuron(w = [1,1], t = 1)\n",
    "\n",
    "OR_table = OR.truthtable(in_signals, in_labels = in_labels, out_label = out_label)\n",
    "print(\"Output for Input Table : \")\n",
    "print(OR_table)\n",
    "\n",
    "# For User Input : \n",
    "inp=input(\"Enter x1 and x2 separated by spaces : \")\n",
    "in_signals = np.array([list(map(int, inp.split()))])\n",
    "in_labels = ['x1','x2']\n",
    "out_label = 'y'\n",
    "\n",
    "\n",
    "OR_table = OR.truthtable(in_signals, in_labels = in_labels, out_label = out_label)\n",
    "print(\"Output for User Input :\")\n",
    "print(OR_table)\n"
   ]
  },
  {
   "cell_type": "markdown",
   "metadata": {},
   "source": [
    "#### NAND Gate Truth Table and Implementation using MCP Neuron\n",
    "|x1|x2|y|\n",
    "|:-:|:-:|:-:|\n",
    "|0|0|1|\n",
    "|0|1|1|\n",
    "|1|0|1|\n",
    "|1|1|0|"
   ]
  },
  {
   "cell_type": "code",
   "execution_count": 38,
   "metadata": {},
   "outputs": [
    {
     "name": "stdout",
     "output_type": "stream",
     "text": [
      "Truth Table Results : \n",
      "   x1  x2  y\n",
      "0   0   0  1\n",
      "1   0   1  1\n",
      "2   1   0  1\n",
      "3   1   1  0\n",
      "User Input Results : \n",
      "   x1  x2  y\n",
      "0   1   1  0\n"
     ]
    }
   ],
   "source": [
    "# Main Table Results\n",
    "in_signals = np.array([[0,0], [0,1], [1,0], [1,1]])\n",
    "NAND = Neuron(w = [-1,-1], t = -1)\n",
    "NAND_table = NAND.truthtable(in_signals, in_labels = in_labels, out_label = out_label)\n",
    "print(\"Truth Table Results : \")\n",
    "print(NAND_table)\n",
    "\n",
    "# For User Input : \n",
    "inp=input(\"Enter x1 and x2 separated by spaces : \")\n",
    "in_signals = np.array([list(map(int, inp.split()))])\n",
    "NAND_table = NAND.truthtable(in_signals, in_labels = in_labels, out_label = out_label)\n",
    "print(\"User Input Results : \")\n",
    "print(NAND_table)"
   ]
  },
  {
   "cell_type": "markdown",
   "metadata": {},
   "source": [
    "#### NOR Gate Truth Table and Implementation using MCP Neuron\n",
    "|x1|x2|y|\n",
    "|:-:|:-:|:-:|\n",
    "|0|0|1|\n",
    "|0|1|0|\n",
    "|1|0|0|\n",
    "|1|1|0|"
   ]
  },
  {
   "cell_type": "code",
   "execution_count": 39,
   "metadata": {},
   "outputs": [
    {
     "name": "stdout",
     "output_type": "stream",
     "text": [
      "Truth Table Results : \n",
      "   x1  x2  y\n",
      "0   0   0  1\n",
      "1   0   1  0\n",
      "2   1   0  0\n",
      "3   1   1  0\n",
      "User Input Results : \n",
      "   x1  x2  y\n",
      "0   1   1  0\n"
     ]
    }
   ],
   "source": [
    "in_signals = np.array([[0,0], [0,1], [1,0], [1,1]])\n",
    "NOR = Neuron(w = [-1,-1], t = 0)\n",
    "NOR_table = NOR.truthtable(in_signals, in_labels = in_labels, out_label = out_label)\n",
    "print(\"Truth Table Results : \")\n",
    "print(NOR_table)\n",
    "\n",
    "inp=input(\"Enter x1 and x2 separated by spaces : \")\n",
    "in_signals = np.array([list(map(int, inp.split()))])\n",
    "NOR_table = NOR.truthtable(in_signals, in_labels = in_labels, out_label = out_label)\n",
    "print(\"User Input Results : \")\n",
    "print(NOR_table)\n",
    "\n"
   ]
  }
 ],
 "metadata": {
  "kernelspec": {
   "display_name": "base",
   "language": "python",
   "name": "python3"
  },
  "language_info": {
   "codemirror_mode": {
    "name": "ipython",
    "version": 3
   },
   "file_extension": ".py",
   "mimetype": "text/x-python",
   "name": "python",
   "nbconvert_exporter": "python",
   "pygments_lexer": "ipython3",
   "version": "3.11.3"
  }
 },
 "nbformat": 4,
 "nbformat_minor": 2
}
