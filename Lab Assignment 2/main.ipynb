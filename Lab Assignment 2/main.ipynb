{
 "cells": [
  {
   "attachments": {
    "image.png": {
     "image/png": "[encoded data removed]"
    }
   },
   "cell_type": "markdown",
   "metadata": {},
   "source": [
    "# Assignment 2\n",
    "\n",
    "**Name:** : Chukka Chanakya Devendra\n",
    "\n",
    "**Roll Number:**  : AP21110011577  \n",
    "\n",
    "**Submission Date:** : 19-08-2024\n",
    "\n",
    "---\n",
    "\n",
    "## Question 1\n",
    "![image.png](attachment:image.png)"
   ]
  },
  {
   "cell_type": "code",
   "execution_count": 11,
   "metadata": {},
   "outputs": [
    {
     "name": "stdout",
     "output_type": "stream",
     "text": [
      "XOR Gate Output:\n",
      "Input: (0, 0) -> Output: 0\n",
      "Input: (0, 1) -> Output: 1\n",
      "Input: (1, 0) -> Output: 1\n",
      "Input: (1, 1) -> Output: 0\n"
     ]
    }
   ],
   "source": [
    "import numpy as np\n",
    "\n",
    "def step_function(x, threshold):\n",
    "    return 1 if x >= threshold else 0\n",
    "\n",
    "class MPNeuron:\n",
    "    def __init__(self, weights, threshold):\n",
    "        self.weights = np.array(weights)\n",
    "        self.threshold = threshold\n",
    "    \n",
    "    def predict(self, inputs):\n",
    "        weighted_sum = np.dot(inputs, self.weights)\n",
    "        return step_function(weighted_sum, self.threshold)\n",
    "\n",
    "class XORModel:\n",
    "    def __init__(self):\n",
    "        self.and_neuron = MPNeuron(weights=[1, 1], threshold=2)   \n",
    "        self.or_neuron = MPNeuron(weights=[1, 1], threshold=1)    \n",
    "        self.nand_neuron = MPNeuron(weights=[-1, -1], threshold=-1)\n",
    "    \n",
    "    def predict(self, x1, x2):\n",
    "        or_output = self.or_neuron.predict([x1, x2])\n",
    "        nand_output = self.nand_neuron.predict([x1, x2])\n",
    "        xor_output = self.and_neuron.predict([nand_output, or_output])\n",
    "        return xor_output\n",
    "xor_model = XORModel()\n",
    "\n",
    "inputs = [(0, 0), (0, 1), (1, 0), (1, 1)]\n",
    "\n",
    "print(\"XOR Gate Output:\")\n",
    "for x1, x2 in inputs:\n",
    "    print(f\"Input: ({x1}, {x2}) -> Output: {xor_model.predict(x1, x2)}\")\n"
   ]
  },
  {
   "attachments": {
    "image.png": {
     "image/png": "[encoded data removed]"
    }
   },
   "cell_type": "markdown",
   "metadata": {},
   "source": [
    "\n",
    "\n",
    "## Question 2\n",
    "\n",
    "![image.png](attachment:image.png)"
   ]
  },
  {
   "cell_type": "code",
   "execution_count": 12,
   "metadata": {},
   "outputs": [
    {
     "name": "stdout",
     "output_type": "stream",
     "text": [
      "Weight updated: 1.0\n",
      "Weight updated: 1.0\n",
      "Bias updated: 1\n",
      "----------------------------------------\n",
      "Weight updated: 2.0\n",
      "Weight updated: 0.0\n",
      "Bias updated: 2\n",
      "----------------------------------------\n",
      "Weight updated: 1.0\n",
      "Weight updated: 1.0\n",
      "Bias updated: 3\n",
      "----------------------------------------\n",
      "Weight updated: 2.0\n",
      "Weight updated: 2.0\n",
      "Bias updated: 2\n",
      "----------------------------------------\n",
      "prediction for [1, 1]: 1\n",
      "prediction for [1, -1]: 1\n",
      "prediction for [-1, 1]: 1\n",
      "prediction for [-1, -1]: -1\n",
      "----------------------------------------\n",
      "----------------------------------------\n",
      "Weight updated: 3.0\n",
      "Weight updated: 3.0\n",
      "Bias updated: 1\n",
      "----------------------------------------\n",
      "Weight updated: 2.0\n",
      "Weight updated: 4.0\n",
      "Bias updated: 0\n",
      "----------------------------------------\n",
      "Weight updated: 3.0\n",
      "Weight updated: 3.0\n",
      "Bias updated: -1\n",
      "----------------------------------------\n",
      "Weight updated: 4.0\n",
      "Weight updated: 4.0\n",
      "Bias updated: -2\n",
      "----------------------------------------\n",
      "prediction for [1, 1]: 1\n",
      "prediction for [1, -1]: -1\n",
      "prediction for [-1, 1]: -1\n",
      "prediction for [-1, -1]: -1\n"
     ]
    }
   ],
   "source": [
    "INPUTS = np.array([[1, 1], [1, -1], [-1, 1], [-1, -1]])\n",
    "LEARNING_RATE = 0.1\n",
    "\n",
    "def step_function(sum):\n",
    "    if sum >= 0:\n",
    "        return 1\n",
    "    return -1\n",
    "\n",
    "def calculate_output(weights, instance, bias):\n",
    "    sum = instance.dot(weights) + bias\n",
    "    return step_function(sum)\n",
    "def hebb(outputs, weights, bias):\n",
    "    for i in range(4):  \n",
    "        weights[0] = weights[0] + (INPUTS[i][0] * outputs[i])\n",
    "        weights[1] = weights[1] + (INPUTS[i][1] * outputs[i])\n",
    "        bias = bias + (1 * outputs[i])\n",
    "\n",
    "        print(\"Weight updated: \" + str(weights[0]))\n",
    "        print(\"Weight updated: \" + str(weights[1]))\n",
    "        print(\"Bias updated: \" + str(bias))\n",
    "        print(\"----------------------------------------\")\n",
    "\n",
    "    return weights, bias\n",
    "and_outputs = np.array([1, -1, -1, -1])\n",
    "or_outputs = np.array([1, 1, 1, -1])\n",
    "weights = np.array([0.0, 0.0])  \n",
    "bias = 0\n",
    "returned_weights, returned_bias = hebb(or_outputs, weights, bias)\n",
    "print('prediction for [1, 1]: ' + str(calculate_output(returned_weights, np.array([[1, 1]]), returned_bias)))\n",
    "print('prediction for [1, -1]: ' + str(calculate_output(returned_weights, np.array([[1, -1]]), returned_bias)))\n",
    "print('prediction for [-1, 1]: ' + str(calculate_output(returned_weights, np.array([[-1, 1]]), returned_bias)))\n",
    "print('prediction for [-1, -1]: ' + str(calculate_output(returned_weights, np.array([[-1, -1]]), returned_bias)))\n",
    "print(\"----------------------------------------\")\n",
    "print(\"----------------------------------------\")\n",
    "returned_weights, returned_bias = hebb(and_outputs, weights, bias)\n",
    "print('prediction for [1, 1]: ' + str(calculate_output(returned_weights, np.array([[1, 1]]), returned_bias)))\n",
    "print('prediction for [1, -1]: ' + str(calculate_output(returned_weights, np.array([[1, -1]]), returned_bias)))\n",
    "print('prediction for [-1, 1]: ' + str(calculate_output(returned_weights, np.array([[-1, 1]]), returned_bias)))\n",
    "print('prediction for [-1, -1]: ' + str(calculate_output(returned_weights, np.array([[-1, -1]]), returned_bias)))\n"
   ]
  }
 ],
 "metadata": {
  "kernelspec": {
   "display_name": "base",
   "language": "python",
   "name": "python3"
  },
  "language_info": {
   "codemirror_mode": {
    "name": "ipython",
    "version": 3
   },
   "file_extension": ".py",
   "mimetype": "text/x-python",
   "name": "python",
   "nbconvert_exporter": "python",
   "pygments_lexer": "ipython3",
   "version": "3.11.3"
  }
 },
 "nbformat": 4,
 "nbformat_minor": 2
}
