{
 "cells": [
  {
   "attachments": {
    "image.png": {
     "image/png": "[encoded data removed]"
    }
   },
   "cell_type": "markdown",
   "metadata": {},
   "source": [
    "# Assignment 3\n",
    "\n",
    "**Name:** : Chukka Chanakya Devendra\n",
    "\n",
    "**Roll Number:**  : AP21110011577  \n",
    "\n",
    "**Submission Date:** : 09-09-2024\n",
    "\n",
    "---\n",
    "![image.png](attachment:image.png)"
   ]
  },
  {
   "cell_type": "code",
   "execution_count": 1,
   "metadata": {},
   "outputs": [],
   "source": [
    "import numpy as np\n",
    "\n",
    "class ADALINE:\n",
    "    def __init__(self, lr=0.01, epochs=100):\n",
    "        self.lr = lr\n",
    "        self.epochs = epochs\n",
    "        self.weights = None\n",
    "        self.bias = None\n",
    "\n",
    "    def activation(self, x):\n",
    "        return np.where(x >= 0.0, 1, 0) \n",
    "\n",
    "    def predict(self, X):\n",
    "        linear_output = np.dot(X, self.weights) + self.bias\n",
    "        return self.activation(linear_output)\n",
    "\n",
    "    def fit(self, X, y):\n",
    "        n_samples, n_features = X.shape\n",
    "        self.weights = np.zeros(n_features)\n",
    "        self.bias = 0\n",
    "\n",
    "        for _ in range(self.epochs):\n",
    "            for idx, x_i in enumerate(X):\n",
    "                linear_output = np.dot(x_i, self.weights) + self.bias\n",
    "                y_pred = self.activation(linear_output)\n",
    "                error = y[idx] - y_pred\n",
    "                self.weights += self.lr * error * x_i\n",
    "                self.bias += self.lr * error"
   ]
  },
  {
   "cell_type": "code",
   "execution_count": 3,
   "metadata": {},
   "outputs": [
    {
     "name": "stdout",
     "output_type": "stream",
     "text": [
      "AND Gate Predictions: [0 0 0 1]\n",
      "OR Gate Predictions: [0 1 1 1]\n"
     ]
    }
   ],
   "source": [
    "\n",
    "X = np.array([[0, 0], [0, 1], [1, 0], [1, 1]])\n",
    "\n",
    "y_and = np.array([0, 0, 0, 1])\n",
    "\n",
    "y_or = np.array([0, 1, 1, 1])\n",
    "\n",
    "adaline_and = ADALINE(lr=0.1, epochs=10)\n",
    "adaline_and.fit(X, y_and)\n",
    "\n",
    "print(\"AND Gate Predictions:\", adaline_and.predict(X))\n",
    "\n",
    "adaline_or = ADALINE(lr=0.1, epochs=10)\n",
    "adaline_or.fit(X, y_or)\n",
    "\n",
    "print(\"OR Gate Predictions:\", adaline_or.predict(X))\n"
   ]
  },
  {
   "cell_type": "code",
   "execution_count": 5,
   "metadata": {},
   "outputs": [
    {
     "name": "stdout",
     "output_type": "stream",
     "text": [
      "NAND Gate Predictions: [1 1 1 0]\n",
      "NOR Gate Predictions: [1 0 0 0]\n"
     ]
    }
   ],
   "source": [
    "y_nand = np.array([1, 1, 1, 0])\n",
    "\n",
    "y_nor = np.array([1, 0, 0, 0])\n",
    "\n",
    "adaline_nand = ADALINE(lr=0.1, epochs=100)\n",
    "adaline_nand.fit(X, y_nand)\n",
    "\n",
    "print(\"NAND Gate Predictions:\", adaline_nand.predict(X))\n",
    "\n",
    "adaline_nor = ADALINE(lr=0.1, epochs=100)\n",
    "adaline_nor.fit(X, y_nor)\n",
    "\n",
    "print(\"NOR Gate Predictions:\", adaline_nor.predict(X))\n"
   ]
  }
 ],
 "metadata": {
  "kernelspec": {
   "display_name": "base",
   "language": "python",
   "name": "python3"
  },
  "language_info": {
   "codemirror_mode": {
    "name": "ipython",
    "version": 3
   },
   "file_extension": ".py",
   "mimetype": "text/x-python",
   "name": "python",
   "nbconvert_exporter": "python",
   "pygments_lexer": "ipython3",
   "version": "3.11.3"
  }
 },
 "nbformat": 4,
 "nbformat_minor": 2
}
